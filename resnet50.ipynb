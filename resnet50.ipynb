{
  "nbformat": 4,
  "nbformat_minor": 0,
  "metadata": {
    "colab": {
      "name": "resnet50.ipynb",
      "version": "0.3.2",
      "provenance": [],
      "include_colab_link": true
    },
    "kernelspec": {
      "name": "python3",
      "display_name": "Python 3"
    },
    "accelerator": "GPU"
  },
  "cells": [
    {
      "cell_type": "markdown",
      "metadata": {
        "id": "view-in-github",
        "colab_type": "text"
      },
      "source": [
        "<a href=\"https://colab.research.google.com/github/murthy95/colab/blob/master/resnet50.ipynb\" target=\"_parent\"><img src=\"https://colab.research.google.com/assets/colab-badge.svg\" alt=\"Open In Colab\"/></a>"
      ]
    },
    {
      "cell_type": "markdown",
      "metadata": {
        "id": "romk-1BfVYiC",
        "colab_type": "text"
      },
      "source": [
        "#Deep Residual learning for image recognition \n",
        "This notebook implements the resnet50 architecture discussed in [this](https://https://arxiv.org/pdf/1512.03385.pdf) paper.\n",
        "\n",
        "The same is shown in the figure attached below \n",
        "\n",
        "<img src=\"https://cdn-images-1.medium.com/max/1600/1*aq0q7gCvuNUqnMHh4cpnIw.png\" width=500>"
      ]
    },
    {
      "cell_type": "code",
      "metadata": {
        "id": "rk66GGGIQ8W6",
        "colab_type": "code",
        "outputId": "61169224-76db-467c-9693-d4071103aca1",
        "colab": {
          "base_uri": "https://localhost:8080/",
          "height": 312
        }
      },
      "source": [
        "!nvidia-smi"
      ],
      "execution_count": 0,
      "outputs": [
        {
          "output_type": "stream",
          "text": [
            "Tue Jun  4 06:59:58 2019       \n",
            "+-----------------------------------------------------------------------------+\n",
            "| NVIDIA-SMI 418.67       Driver Version: 410.79       CUDA Version: 10.0     |\n",
            "|-------------------------------+----------------------+----------------------+\n",
            "| GPU  Name        Persistence-M| Bus-Id        Disp.A | Volatile Uncorr. ECC |\n",
            "| Fan  Temp  Perf  Pwr:Usage/Cap|         Memory-Usage | GPU-Util  Compute M. |\n",
            "|===============================+======================+======================|\n",
            "|   0  Tesla K80           Off  | 00000000:00:04.0 Off |                    0 |\n",
            "| N/A   32C    P8    29W / 149W |      0MiB / 11441MiB |      0%      Default |\n",
            "+-------------------------------+----------------------+----------------------+\n",
            "                                                                               \n",
            "+-----------------------------------------------------------------------------+\n",
            "| Processes:                                                       GPU Memory |\n",
            "|  GPU       PID   Type   Process name                             Usage      |\n",
            "|=============================================================================|\n",
            "|  No running processes found                                                 |\n",
            "+-----------------------------------------------------------------------------+\n"
          ],
          "name": "stdout"
        }
      ]
    },
    {
      "cell_type": "code",
      "metadata": {
        "id": "vzlXLNC2WV5T",
        "colab_type": "code",
        "outputId": "20420f1e-a67d-4837-dc68-6f0e8d202f82",
        "colab": {
          "base_uri": "https://localhost:8080/",
          "height": 69
        }
      },
      "source": [
        "#loading the dataset \n",
        "import torch \n",
        "import torchvision \n",
        "import torchvision.transforms as transforms\n",
        "\n",
        "transform = transforms.Compose(\n",
        "    [transforms.Resize((224,224)),\n",
        "     transforms.ToTensor(),\n",
        "     transforms.Normalize((0.5, 0.5, 0.5), (0.5, 0.5, 0.5))])\n",
        "trainset = torchvision.datasets.CIFAR10(root='./data', train=True,\n",
        "                                        download=True, transform=transform)\n",
        "trainloader = torch.utils.data.DataLoader(trainset, batch_size=32,\n",
        "                                          shuffle=True, num_workers=2)\n",
        "testset = torchvision.datasets.CIFAR10(root='./data', train=False,\n",
        "                                       download=True, transform=transform)\n",
        "testloader = torch.utils.data.DataLoader(testset, batch_size=4,\n",
        "                                         shuffle=False, num_workers=2)"
      ],
      "execution_count": 1,
      "outputs": [
        {
          "output_type": "stream",
          "text": [
            "\r0it [00:00, ?it/s]"
          ],
          "name": "stderr"
        },
        {
          "output_type": "stream",
          "text": [
            "Downloading https://www.cs.toronto.edu/~kriz/cifar-10-python.tar.gz to ./data/cifar-10-python.tar.gz\n"
          ],
          "name": "stdout"
        },
        {
          "output_type": "stream",
          "text": [
            "170500096it [00:06, 24378106.21it/s]                               \n"
          ],
          "name": "stderr"
        },
        {
          "output_type": "stream",
          "text": [
            "Files already downloaded and verified\n"
          ],
          "name": "stdout"
        }
      ]
    },
    {
      "cell_type": "code",
      "metadata": {
        "id": "ZkANw-9KZ0r6",
        "colab_type": "code",
        "colab": {}
      },
      "source": [
        "n_classes = 10\n",
        "\n",
        "#make RESNET50 network\n",
        "import torch.nn as nn\n",
        "import torch.nn.functional as F\n",
        "\n",
        "class simple_residual_block(nn.Module):\n",
        "  def __init__(self, in_filters, out_filters, is_first, downsample_stride=2):\n",
        "    super(simple_residual_block, self).__init__()\n",
        "    \n",
        "    self.is_first = is_first\n",
        "    \n",
        "    if self.is_first:\n",
        "      self.matching_conv = nn.Conv2d(in_filters, out_filters, 1, \n",
        "                                     stride=downsample_stride, padding=0)\n",
        "      self.conv1 = nn.Conv2d(in_filters, int(out_filters/4), 1, \n",
        "                                     stride=1, padding=0)\n",
        "      self.conv2 = nn.Conv2d(int(out_filters/4), int(out_filters/4), 3, \n",
        "                                       stride=downsample_stride, padding=1)\n",
        "    else:\n",
        "      self.conv1 = nn.Conv2d(out_filters, int(out_filters/4), 1, \n",
        "                                     stride=1, padding=0) \n",
        "      self.conv2 = nn.Conv2d(int(out_filters/4), int(out_filters/4), 3, \n",
        "                                       stride=1, padding=1)\n",
        "    self.conv3 = nn.Conv2d(int(out_filters/4), out_filters, 1, \n",
        "                                     stride=1, padding=0)\n",
        "    \n",
        "  def forward(self, x):\n",
        "    if self.is_first:\n",
        "      identity = F.relu(self.matching_conv(x))\n",
        "    else:\n",
        "      identity = x\n",
        "    \n",
        "    x = F.relu(self.conv1(x))\n",
        "    x = F.relu(self.conv2(x))\n",
        "    x = self.conv3(x)\n",
        "    x += identity\n",
        "    return F.relu(x)\n",
        "  \n",
        "class Resnet50(nn.Module):\n",
        "  def __init__(self):\n",
        "    super(Resnet50, self).__init__()\n",
        "    \n",
        "    self.model = nn.Sequential(nn.Conv2d(3, 64, 7, stride=2, padding=3),\n",
        "                               nn.ReLU(inplace=True),\n",
        "                               nn.MaxPool2d(3, stride=2, padding=1), \n",
        "                               self.make_layers(3, 64, 256, downsample_stride=1),\n",
        "                               self.make_layers(4, 256, 512),\n",
        "                               self.make_layers(6, 512, 1024),\n",
        "                               self.make_layers(3, 1024, 2048))\n",
        "    self.avgpool = nn.AdaptiveMaxPool2d((1, 1))\n",
        "    self.linear1 = nn.Linear(2048, 1000)\n",
        "    self.linear2 = nn.Linear(1000, n_classes)\n",
        "    \n",
        "    \n",
        "    \n",
        "  def forward(self, x):\n",
        "    x = self.model(x)\n",
        "    x = self.avgpool(x)\n",
        "    x = x.view(x.size(0), -1)\n",
        "    x = F.relu(self.linear1(x))\n",
        "    x = self.linear2(x)\n",
        "    return x\n",
        "  \n",
        "  def make_layers(self, layers_repeat, in_filters, out_filters, downsample_stride=2):\n",
        "    blocks = []\n",
        "    for i in range(layers_repeat):\n",
        "      if i == 0:\n",
        "        blocks.append(simple_residual_block(in_filters, out_filters, \n",
        "                                            True, downsample_stride))\n",
        "      else:\n",
        "        blocks.append(simple_residual_block(in_filters, out_filters, \n",
        "                                            False, downsample_stride))\n",
        "    return nn.Sequential(*blocks)\n",
        "    "
      ],
      "execution_count": 0,
      "outputs": []
    },
    {
      "cell_type": "code",
      "metadata": {
        "id": "oCvk8uPgsnPs",
        "colab_type": "code",
        "outputId": "fc3a3083-7c48-4c10-c498-d0ba11ae000b",
        "colab": {
          "base_uri": "https://localhost:8080/",
          "height": 1934
        }
      },
      "source": [
        "import torch.optim as optim\n",
        "from torchsummary import summary\n",
        "\n",
        "#training parameters\n",
        "n_epochs = 90\n",
        "alpha = 0.2\n",
        "batch_size = 64\n",
        "\n",
        "device = torch.device('cuda:0' if torch.cuda.is_available() else 'cpu')\n",
        "\n",
        "net = Resnet50()\n",
        "net = net.to(device)\n",
        "print ('Printing model string : ')\n",
        "print (summary(net, (3, 224, 224)))\n",
        "\n",
        "softmax = nn.Softmax(dim=-1)\n",
        "loss = nn.CrossEntropyLoss()\n",
        "optimizer = optim.SGD(net.parameters(), lr=0.001, momentum=0.9)\n",
        "\n",
        "#training continues \n",
        "global_counter = 0\n",
        "for i in range(n_epochs):\n",
        "  stats_loss = []\n",
        "  #make a iter object to feed data to the network\n",
        "  dataiter = iter(trainloader)\n",
        "  \n",
        "  for _ in range(len(trainloader)):\n",
        "    x, y = next(dataiter)\n",
        "    x = x.to(device)\n",
        "    y = y.to(device)\n",
        "    pred_y = net(x)\n",
        "    \n",
        "    optimizer.zero_grad()\n",
        "    _loss = loss(pred_y, y)\n",
        "    _loss.backward()\n",
        "    optimizer.step()\n",
        "    stats_loss.append(_loss.item())\n",
        "    \n",
        "    if global_counter % 200 == 0:\n",
        "      print('Training loss at iteration {} : {}'.format(global_counter, \n",
        "                                                        stats_loss[-1]))\n",
        "      val_loss = 0\n",
        "      test_data_iter = iter(testloader)\n",
        "      for j in range(len(testloader)):\n",
        "        x_test, y_test = next(test_data_iter)\n",
        "        x_test = x_test.to(device)\n",
        "        y_test = y_test.to(device)\n",
        "        val_loss += loss(net(x_test), y_test).item()\n",
        "     \n",
        "      print('Test loss at iteration {} : {}'.format(global_counter, \n",
        "                                                        val_loss/j))\n",
        "    global_counter += 1\n",
        "    \n",
        "      "
      ],
      "execution_count": 5,
      "outputs": [
        {
          "output_type": "stream",
          "text": [
            "Printing model string : \n",
            "----------------------------------------------------------------\n",
            "        Layer (type)               Output Shape         Param #\n",
            "================================================================\n",
            "            Conv2d-1         [-1, 64, 112, 112]           9,472\n",
            "              ReLU-2         [-1, 64, 112, 112]               0\n",
            "         MaxPool2d-3           [-1, 64, 56, 56]               0\n",
            "            Conv2d-4          [-1, 256, 56, 56]          16,640\n",
            "            Conv2d-5           [-1, 64, 56, 56]           4,160\n",
            "            Conv2d-6           [-1, 64, 56, 56]          36,928\n",
            "            Conv2d-7          [-1, 256, 56, 56]          16,640\n",
            "simple_residual_block-8          [-1, 256, 56, 56]               0\n",
            "            Conv2d-9           [-1, 64, 56, 56]          16,448\n",
            "           Conv2d-10           [-1, 64, 56, 56]          36,928\n",
            "           Conv2d-11          [-1, 256, 56, 56]          16,640\n",
            "simple_residual_block-12          [-1, 256, 56, 56]               0\n",
            "           Conv2d-13           [-1, 64, 56, 56]          16,448\n",
            "           Conv2d-14           [-1, 64, 56, 56]          36,928\n",
            "           Conv2d-15          [-1, 256, 56, 56]          16,640\n",
            "simple_residual_block-16          [-1, 256, 56, 56]               0\n",
            "           Conv2d-17          [-1, 512, 28, 28]         131,584\n",
            "           Conv2d-18          [-1, 128, 56, 56]          32,896\n",
            "           Conv2d-19          [-1, 128, 28, 28]         147,584\n",
            "           Conv2d-20          [-1, 512, 28, 28]          66,048\n",
            "simple_residual_block-21          [-1, 512, 28, 28]               0\n",
            "           Conv2d-22          [-1, 128, 28, 28]          65,664\n",
            "           Conv2d-23          [-1, 128, 28, 28]         147,584\n",
            "           Conv2d-24          [-1, 512, 28, 28]          66,048\n",
            "simple_residual_block-25          [-1, 512, 28, 28]               0\n",
            "           Conv2d-26          [-1, 128, 28, 28]          65,664\n",
            "           Conv2d-27          [-1, 128, 28, 28]         147,584\n",
            "           Conv2d-28          [-1, 512, 28, 28]          66,048\n",
            "simple_residual_block-29          [-1, 512, 28, 28]               0\n",
            "           Conv2d-30          [-1, 128, 28, 28]          65,664\n",
            "           Conv2d-31          [-1, 128, 28, 28]         147,584\n",
            "           Conv2d-32          [-1, 512, 28, 28]          66,048\n",
            "simple_residual_block-33          [-1, 512, 28, 28]               0\n",
            "           Conv2d-34         [-1, 1024, 14, 14]         525,312\n",
            "           Conv2d-35          [-1, 256, 28, 28]         131,328\n",
            "           Conv2d-36          [-1, 256, 14, 14]         590,080\n",
            "           Conv2d-37         [-1, 1024, 14, 14]         263,168\n",
            "simple_residual_block-38         [-1, 1024, 14, 14]               0\n",
            "           Conv2d-39          [-1, 256, 14, 14]         262,400\n",
            "           Conv2d-40          [-1, 256, 14, 14]         590,080\n",
            "           Conv2d-41         [-1, 1024, 14, 14]         263,168\n",
            "simple_residual_block-42         [-1, 1024, 14, 14]               0\n",
            "           Conv2d-43          [-1, 256, 14, 14]         262,400\n",
            "           Conv2d-44          [-1, 256, 14, 14]         590,080\n",
            "           Conv2d-45         [-1, 1024, 14, 14]         263,168\n",
            "simple_residual_block-46         [-1, 1024, 14, 14]               0\n",
            "           Conv2d-47          [-1, 256, 14, 14]         262,400\n",
            "           Conv2d-48          [-1, 256, 14, 14]         590,080\n",
            "           Conv2d-49         [-1, 1024, 14, 14]         263,168\n",
            "simple_residual_block-50         [-1, 1024, 14, 14]               0\n",
            "           Conv2d-51          [-1, 256, 14, 14]         262,400\n",
            "           Conv2d-52          [-1, 256, 14, 14]         590,080\n",
            "           Conv2d-53         [-1, 1024, 14, 14]         263,168\n",
            "simple_residual_block-54         [-1, 1024, 14, 14]               0\n",
            "           Conv2d-55          [-1, 256, 14, 14]         262,400\n",
            "           Conv2d-56          [-1, 256, 14, 14]         590,080\n",
            "           Conv2d-57         [-1, 1024, 14, 14]         263,168\n",
            "simple_residual_block-58         [-1, 1024, 14, 14]               0\n",
            "           Conv2d-59           [-1, 2048, 7, 7]       2,099,200\n",
            "           Conv2d-60          [-1, 512, 14, 14]         524,800\n",
            "           Conv2d-61            [-1, 512, 7, 7]       2,359,808\n",
            "           Conv2d-62           [-1, 2048, 7, 7]       1,050,624\n",
            "simple_residual_block-63           [-1, 2048, 7, 7]               0\n",
            "           Conv2d-64            [-1, 512, 7, 7]       1,049,088\n",
            "           Conv2d-65            [-1, 512, 7, 7]       2,359,808\n",
            "           Conv2d-66           [-1, 2048, 7, 7]       1,050,624\n",
            "simple_residual_block-67           [-1, 2048, 7, 7]               0\n",
            "           Conv2d-68            [-1, 512, 7, 7]       1,049,088\n",
            "           Conv2d-69            [-1, 512, 7, 7]       2,359,808\n",
            "           Conv2d-70           [-1, 2048, 7, 7]       1,050,624\n",
            "simple_residual_block-71           [-1, 2048, 7, 7]               0\n",
            "AdaptiveMaxPool2d-72           [-1, 2048, 1, 1]               0\n",
            "           Linear-73                 [-1, 1000]       2,049,000\n",
            "           Linear-74                   [-1, 10]          10,010\n",
            "================================================================\n",
            "Total params: 25,540,482\n",
            "Trainable params: 25,540,482\n",
            "Non-trainable params: 0\n",
            "----------------------------------------------------------------\n",
            "Input size (MB): 0.57\n",
            "Forward/backward pass size (MB): 134.58\n",
            "Params size (MB): 97.43\n",
            "Estimated Total Size (MB): 232.59\n",
            "----------------------------------------------------------------\n",
            "None\n",
            "Training loss at iteration 0 : 2.2972004413604736\n",
            "Test loss at iteration 0 : 2.3038165205810106\n"
          ],
          "name": "stdout"
        },
        {
          "output_type": "error",
          "ename": "KeyboardInterrupt",
          "evalue": "ignored",
          "traceback": [
            "\u001b[0;31m---------------------------------------------------------------------------\u001b[0m",
            "\u001b[0;31mKeyboardInterrupt\u001b[0m                         Traceback (most recent call last)",
            "\u001b[0;32m<ipython-input-5-c917774e7765>\u001b[0m in \u001b[0;36m<module>\u001b[0;34m()\u001b[0m\n\u001b[1;32m     34\u001b[0m     \u001b[0m_loss\u001b[0m \u001b[0;34m=\u001b[0m \u001b[0mloss\u001b[0m\u001b[0;34m(\u001b[0m\u001b[0mpred_y\u001b[0m\u001b[0;34m,\u001b[0m \u001b[0my\u001b[0m\u001b[0;34m)\u001b[0m\u001b[0;34m\u001b[0m\u001b[0;34m\u001b[0m\u001b[0m\n\u001b[1;32m     35\u001b[0m     \u001b[0m_loss\u001b[0m\u001b[0;34m.\u001b[0m\u001b[0mbackward\u001b[0m\u001b[0;34m(\u001b[0m\u001b[0;34m)\u001b[0m\u001b[0;34m\u001b[0m\u001b[0;34m\u001b[0m\u001b[0m\n\u001b[0;32m---> 36\u001b[0;31m     \u001b[0moptimizer\u001b[0m\u001b[0;34m.\u001b[0m\u001b[0mstep\u001b[0m\u001b[0;34m(\u001b[0m\u001b[0;34m)\u001b[0m\u001b[0;34m\u001b[0m\u001b[0;34m\u001b[0m\u001b[0m\n\u001b[0m\u001b[1;32m     37\u001b[0m     \u001b[0mstats_loss\u001b[0m\u001b[0;34m.\u001b[0m\u001b[0mappend\u001b[0m\u001b[0;34m(\u001b[0m\u001b[0m_loss\u001b[0m\u001b[0;34m.\u001b[0m\u001b[0mitem\u001b[0m\u001b[0;34m(\u001b[0m\u001b[0;34m)\u001b[0m\u001b[0;34m)\u001b[0m\u001b[0;34m\u001b[0m\u001b[0;34m\u001b[0m\u001b[0m\n\u001b[1;32m     38\u001b[0m \u001b[0;34m\u001b[0m\u001b[0m\n",
            "\u001b[0;32m/usr/local/lib/python3.6/dist-packages/torch/optim/sgd.py\u001b[0m in \u001b[0;36mstep\u001b[0;34m(self, closure)\u001b[0m\n\u001b[1;32m    104\u001b[0m                         \u001b[0md_p\u001b[0m \u001b[0;34m=\u001b[0m \u001b[0mbuf\u001b[0m\u001b[0;34m\u001b[0m\u001b[0;34m\u001b[0m\u001b[0m\n\u001b[1;32m    105\u001b[0m \u001b[0;34m\u001b[0m\u001b[0m\n\u001b[0;32m--> 106\u001b[0;31m                 \u001b[0mp\u001b[0m\u001b[0;34m.\u001b[0m\u001b[0mdata\u001b[0m\u001b[0;34m.\u001b[0m\u001b[0madd_\u001b[0m\u001b[0;34m(\u001b[0m\u001b[0;34m-\u001b[0m\u001b[0mgroup\u001b[0m\u001b[0;34m[\u001b[0m\u001b[0;34m'lr'\u001b[0m\u001b[0;34m]\u001b[0m\u001b[0;34m,\u001b[0m \u001b[0md_p\u001b[0m\u001b[0;34m)\u001b[0m\u001b[0;34m\u001b[0m\u001b[0;34m\u001b[0m\u001b[0m\n\u001b[0m\u001b[1;32m    107\u001b[0m \u001b[0;34m\u001b[0m\u001b[0m\n\u001b[1;32m    108\u001b[0m         \u001b[0;32mreturn\u001b[0m \u001b[0mloss\u001b[0m\u001b[0;34m\u001b[0m\u001b[0;34m\u001b[0m\u001b[0m\n",
            "\u001b[0;31mKeyboardInterrupt\u001b[0m: "
          ]
        }
      ]
    },
    {
      "cell_type": "code",
      "metadata": {
        "id": "i3eLXhUZb5vN",
        "colab_type": "code",
        "colab": {}
      },
      "source": [
        ""
      ],
      "execution_count": 0,
      "outputs": []
    }
  ]
}